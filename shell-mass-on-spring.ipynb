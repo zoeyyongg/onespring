{
 "cells": [
  {
   "cell_type": "code",
   "execution_count": 1,
   "metadata": {},
   "outputs": [
    {
     "data": {
      "text/html": [
       "<div id=\"glowscript\" class=\"glowscript\"></div>"
      ],
      "text/plain": [
       "<IPython.core.display.HTML object>"
      ]
     },
     "metadata": {},
     "output_type": "display_data"
    },
    {
     "data": {
      "application/javascript": [
       "if (typeof Jupyter !== \"undefined\") { window.__context = { glowscript_container: $(\"#glowscript\").removeAttr(\"id\")};}else{ element.textContent = ' ';}"
      ],
      "text/plain": [
       "<IPython.core.display.Javascript object>"
      ]
     },
     "metadata": {},
     "output_type": "display_data"
    }
   ],
   "source": [
    "from math import *\n",
    "from vpython import *"
   ]
  },
  {
   "cell_type": "markdown",
   "metadata": {},
   "source": [
    "Move the mouse over the graph to explore its interactivity. Drag a rectangle in the graph to zoom. Examine the icons at the upper right. Click the \"Reset axes\" icon to restore. Drag along the botton or left to pan."
   ]
  },
  {
   "cell_type": "code",
   "execution_count": 2,
   "metadata": {},
   "outputs": [
    {
     "data": {
      "text/html": [
       "<div id=\"glowscript\" class=\"glowscript\"></div>"
      ],
      "text/plain": [
       "<IPython.core.display.HTML object>"
      ]
     },
     "metadata": {},
     "output_type": "display_data"
    },
    {
     "data": {
      "application/javascript": [
       "if (typeof Jupyter !== \"undefined\") { window.__context = { glowscript_container: $(\"#glowscript\").removeAttr(\"id\")};}else{ element.textContent = ' ';}"
      ],
      "text/plain": [
       "<IPython.core.display.Javascript object>"
      ]
     },
     "metadata": {},
     "output_type": "display_data"
    },
    {
     "data": {
      "application/javascript": [
       "if (typeof Jupyter !== \"undefined\") {require.undef(\"nbextensions/vpython_libraries/glow.min\");}else{element.textContent = ' ';}"
      ],
      "text/plain": [
       "<IPython.core.display.Javascript object>"
      ]
     },
     "metadata": {},
     "output_type": "display_data"
    },
    {
     "data": {
      "application/javascript": [
       "if (typeof Jupyter !== \"undefined\") {require.undef(\"nbextensions/vpython_libraries/glowcomm\");}else{element.textContent = ' ';}"
      ],
      "text/plain": [
       "<IPython.core.display.Javascript object>"
      ]
     },
     "metadata": {},
     "output_type": "display_data"
    },
    {
     "data": {
      "application/javascript": [
       "if (typeof Jupyter !== \"undefined\") {require.undef(\"nbextensions/vpython_libraries/jquery-ui.custom.min\");}else{element.textContent = ' ';}"
      ],
      "text/plain": [
       "<IPython.core.display.Javascript object>"
      ]
     },
     "metadata": {},
     "output_type": "display_data"
    },
    {
     "data": {
      "application/javascript": [
       "if (typeof Jupyter !== \"undefined\") {require([\"nbextensions/vpython_libraries/glow.min\"], function(){console.log(\"GLOW LOADED\");});}else{element.textContent = ' ';}"
      ],
      "text/plain": [
       "<IPython.core.display.Javascript object>"
      ]
     },
     "metadata": {},
     "output_type": "display_data"
    },
    {
     "data": {
      "application/javascript": [
       "if (typeof Jupyter !== \"undefined\") {require([\"nbextensions/vpython_libraries/glowcomm\"], function(){console.log(\"GLOWCOMM LOADED\");});}else{element.textContent = ' ';}"
      ],
      "text/plain": [
       "<IPython.core.display.Javascript object>"
      ]
     },
     "metadata": {},
     "output_type": "display_data"
    },
    {
     "data": {
      "application/javascript": [
       "if (typeof Jupyter !== \"undefined\") {require([\"nbextensions/vpython_libraries/jquery-ui.custom.min\"], function(){console.log(\"JQUERY LOADED\");});}else{element.textContent = ' ';}"
      ],
      "text/plain": [
       "<IPython.core.display.Javascript object>"
      ]
     },
     "metadata": {},
     "output_type": "display_data"
    },
    {
     "ename": "KeyboardInterrupt",
     "evalue": "",
     "output_type": "error",
     "traceback": [
      "\u001b[1;31m---------------------------------------------------------------------------\u001b[0m",
      "\u001b[1;31mKeyboardInterrupt\u001b[0m                         Traceback (most recent call last)",
      "Cell \u001b[1;32mIn[2], line 55\u001b[0m\n\u001b[0;32m     52\u001b[0m \u001b[38;5;66;03m#\u001b[39;00m\n\u001b[0;32m     53\u001b[0m \u001b[38;5;66;03m#\u001b[39;00m\n\u001b[0;32m     54\u001b[0m \u001b[38;5;28;01mwhile\u001b[39;00m(t\u001b[38;5;241m<\u001b[39m\u001b[38;5;241m100\u001b[39m):\n\u001b[1;32m---> 55\u001b[0m     rate(\u001b[38;5;241m100\u001b[39m)\n\u001b[0;32m     57\u001b[0m \u001b[38;5;66;03m#\u001b[39;00m\n\u001b[0;32m     58\u001b[0m \u001b[38;5;66;03m#\u001b[39;00m\n\u001b[0;32m     59\u001b[0m     spring\u001b[38;5;241m.\u001b[39mforce \u001b[38;5;241m=\u001b[39m \u001b[38;5;241m-\u001b[39m\u001b[38;5;241m1\u001b[39m\u001b[38;5;241m*\u001b[39mspring\u001b[38;5;241m.\u001b[39mks\u001b[38;5;241m*\u001b[39m(bob\u001b[38;5;241m.\u001b[39mpos\u001b[38;5;241m-\u001b[39mspring\u001b[38;5;241m.\u001b[39mequil)\n",
      "File \u001b[1;32m~\\anaconda3\\Lib\\site-packages\\vpython\\rate_control.py:266\u001b[0m, in \u001b[0;36m_RateKeeper2.__call__\u001b[1;34m(self, N)\u001b[0m\n\u001b[0;32m    264\u001b[0m \u001b[38;5;28mself\u001b[39m\u001b[38;5;241m.\u001b[39mrval \u001b[38;5;241m=\u001b[39m N\n\u001b[0;32m    265\u001b[0m \u001b[38;5;28;01mif\u001b[39;00m \u001b[38;5;28mself\u001b[39m\u001b[38;5;241m.\u001b[39mrval \u001b[38;5;241m<\u001b[39m \u001b[38;5;241m1\u001b[39m: \u001b[38;5;28;01mraise\u001b[39;00m \u001b[38;5;167;01mValueError\u001b[39;00m(\u001b[38;5;124m\"\u001b[39m\u001b[38;5;124mrate value must be greater than or equal to 1\u001b[39m\u001b[38;5;124m\"\u001b[39m)\n\u001b[1;32m--> 266\u001b[0m \u001b[38;5;28msuper\u001b[39m(_RateKeeper2, \u001b[38;5;28mself\u001b[39m)\u001b[38;5;241m.\u001b[39m\u001b[38;5;21m__call__\u001b[39m(\u001b[38;5;28mself\u001b[39m\u001b[38;5;241m.\u001b[39mrval)\n",
      "File \u001b[1;32m~\\anaconda3\\Lib\\site-packages\\vpython\\rate_control.py:220\u001b[0m, in \u001b[0;36mRateKeeper.__call__\u001b[1;34m(self, maxRate)\u001b[0m\n\u001b[0;32m    217\u001b[0m \u001b[38;5;66;03m# Determine how much time is left before the next predicted call to rate:\u001b[39;00m\n\u001b[0;32m    218\u001b[0m dt \u001b[38;5;241m=\u001b[39m \u001b[38;5;28mself\u001b[39m\u001b[38;5;241m.\u001b[39mlastSleep \u001b[38;5;241m+\u001b[39m \u001b[38;5;28mself\u001b[39m\u001b[38;5;241m.\u001b[39mcalls\u001b[38;5;241m*\u001b[39m(\u001b[38;5;28mself\u001b[39m\u001b[38;5;241m.\u001b[39muserTime \u001b[38;5;241m+\u001b[39m \u001b[38;5;28mself\u001b[39m\u001b[38;5;241m.\u001b[39mcallTime \u001b[38;5;241m+\u001b[39m \u001b[38;5;28mself\u001b[39m\u001b[38;5;241m.\u001b[39mdelay) \u001b[38;5;241m+\u001b[39m \\\n\u001b[0;32m    219\u001b[0m      renders\u001b[38;5;241m*\u001b[39m\u001b[38;5;28mself\u001b[39m\u001b[38;5;241m.\u001b[39mrenderTime \u001b[38;5;241m+\u001b[39m sleeps\u001b[38;5;241m*\u001b[39m\u001b[38;5;28mself\u001b[39m\u001b[38;5;241m.\u001b[39minteractionPeriod \u001b[38;5;241m-\u001b[39m _clock()\n\u001b[1;32m--> 220\u001b[0m _sleep(dt)\n\u001b[0;32m    221\u001b[0m \u001b[38;5;28mself\u001b[39m\u001b[38;5;241m.\u001b[39mlastSleep \u001b[38;5;241m=\u001b[39m _clock()\n\u001b[0;32m    222\u001b[0m \u001b[38;5;28mself\u001b[39m\u001b[38;5;241m.\u001b[39mcalls \u001b[38;5;241m=\u001b[39m \u001b[38;5;241m0\u001b[39m\n",
      "File \u001b[1;32m~\\anaconda3\\Lib\\site-packages\\vpython\\rate_control.py:62\u001b[0m, in \u001b[0;36m_sleep\u001b[1;34m(dt)\u001b[0m\n\u001b[0;32m     60\u001b[0m dtsleep \u001b[38;5;241m=\u001b[39m nticks\u001b[38;5;241m*\u001b[39m_tick\n\u001b[0;32m     61\u001b[0m t \u001b[38;5;241m=\u001b[39m _clock()\n\u001b[1;32m---> 62\u001b[0m time\u001b[38;5;241m.\u001b[39msleep(dtsleep)\n\u001b[0;32m     63\u001b[0m t \u001b[38;5;241m=\u001b[39m _clock()\u001b[38;5;241m-\u001b[39mt\n\u001b[0;32m     64\u001b[0m dt \u001b[38;5;241m-\u001b[39m\u001b[38;5;241m=\u001b[39m t\n",
      "\u001b[1;31mKeyboardInterrupt\u001b[0m: "
     ]
    }
   ],
   "source": [
    "#\n",
    "# Initialize so spring properties. All units are assumed to me \n",
    "# in MKS units.\n",
    "#\n",
    "spring_constant = 10\n",
    "equil_length    = 1.131\n",
    "initial_stretch = 0.3\n",
    "bob_mass        = 0.08416\n",
    "#\n",
    "# Set up the animation canvas where we display the mass on the spring.\n",
    "#\n",
    "scene2 = canvas(title='Mass on a Spring',caption='Animated Display',\n",
    "     center=vector(equil_length,0,0), background=color.white)\n",
    "#\n",
    "# Set up the wall, spring and mass\n",
    "#\n",
    "wall   = box(pos=vector(0,0,0),size=vector(0.01,.2,.2),color=color.cyan)\n",
    "bob = box(pos=vector(equil_length,0,0),size=vector(.05,.05,.05),color=color.red)\n",
    "spring = helix(pos=wall.pos,axis=bob.pos-wall.pos,radius=0.01,thickness=.01,coils=10,color=color.green)\n",
    "#\n",
    "# equilibrium position of the end of the spring.\n",
    "#\n",
    "spring.equil = vector(equil_length,0,0)\n",
    "bob.pos = wall.pos + spring.equil + vector(initial_stretch,0,0)\n",
    "#\n",
    "# Input Parameters needed in the program. Be sure to\n",
    "# choose sensible values.\n",
    "#\n",
    "bob.mass  = bob_mass\n",
    "bob.mom   = vector(0,0,0)\n",
    "spring.ks = spring_constant\n",
    "dt = 0.001\n",
    "t  = 0.0\n",
    "#\n",
    "#---------------------------------------------------------\n",
    "#\n",
    "scene.autoscale = 0           # Turn off auto scaling\n",
    "#\n",
    "# Setup a graph window to plot things in\n",
    "# Move the mouse over the graph to explore its interactivity.\n",
    "# Drag a rectangle in the graph to zoom. Examine the icons at the upper right.\n",
    "# Click the \"Reset axes\" icon to restore. Drag along the bottom or left to pan.\n",
    "#\n",
    "s='<b>Mass and Spring: Graph</b>'\n",
    "#\n",
    "graph(title=s, xtitle='Time', ytitle='Displacement',xmax=10.0, ymax=0.25, ymin=-0.25, \n",
    "      x=0, y=500, width=500, height=300)\n",
    "#\n",
    "# Set up the curve to plot information on the graph.\n",
    "#\n",
    "drawit = gcurve(color=color.cyan, label='Position')\n",
    "#\n",
    "#\n",
    "while(t<100):\n",
    "    rate(100)\n",
    "     \n",
    "#\n",
    "#\n",
    "    spring.force = -1*spring.ks*(bob.pos-spring.equil)\n",
    "    bob.mom = bob.mom + spring.force*dt\n",
    "    bob.pos = bob.pos + bob.mom*dt/bob.mass\n",
    "#    \n",
    "# Plot the x-coordinate of the block as a function of time.\n",
    "#\n",
    "    spring.axis = bob.pos-wall.pos\n",
    "    xblock = bob.pos.x - spring.equil.x + wall.pos.x\n",
    "    drawit.plot(pos=(t,xblock))\n",
    "    t = t + dt"
   ]
  },
  {
   "cell_type": "code",
   "execution_count": null,
   "metadata": {},
   "outputs": [],
   "source": []
  }
 ],
 "metadata": {
  "kernelspec": {
   "display_name": "Python 3 (ipykernel)",
   "language": "python",
   "name": "python3"
  },
  "language_info": {
   "codemirror_mode": {
    "name": "ipython",
    "version": 3
   },
   "file_extension": ".py",
   "mimetype": "text/x-python",
   "name": "python",
   "nbconvert_exporter": "python",
   "pygments_lexer": "ipython3",
   "version": "3.11.4"
  }
 },
 "nbformat": 4,
 "nbformat_minor": 2
}
